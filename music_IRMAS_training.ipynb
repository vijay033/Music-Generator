{
 "cells": [
  {
   "cell_type": "code",
   "execution_count": 1,
   "metadata": {},
   "outputs": [
    {
     "name": "stderr",
     "output_type": "stream",
     "text": [
      "Using TensorFlow backend.\n"
     ]
    }
   ],
   "source": [
    "import os\n",
    "from glob import glob\n",
    "import numpy as np\n",
    "from tqdm import tqdm\n",
    "\n",
    "from models.VAE import VariationalAutoencoder\n",
    "from keras.preprocessing.image import ImageDataGenerator"
   ]
  },
  {
   "cell_type": "code",
   "execution_count": 2,
   "metadata": {},
   "outputs": [],
   "source": [
    "os.environ['TF_FORCE_GPU_ALLOW_GROWTH'] = 'true'"
   ]
  },
  {
   "cell_type": "code",
   "execution_count": 3,
   "metadata": {},
   "outputs": [],
   "source": [
    "import os\n",
    "import glob"
   ]
  },
  {
   "cell_type": "code",
   "execution_count": 5,
   "metadata": {},
   "outputs": [
    {
     "data": {
      "text/plain": [
       "(336, 1024)"
      ]
     },
     "execution_count": 5,
     "metadata": {},
     "output_type": "execute_result"
    }
   ],
   "source": [
    "#spectrogram dimensions\n",
    "# 336, 1024\n",
    "INPUT_DIM = (336,1024,1)\n",
    "INPUT_DIM[:2]"
   ]
  },
  {
   "cell_type": "code",
   "execution_count": 6,
   "metadata": {},
   "outputs": [],
   "source": [
    "# run params\n",
    "section = 'music'\n",
    "run_id = '0001'\n",
    "data_name = 'musicdata'\n",
    "RUN_FOLDER = 'musicVAE/{}/'.format(section)\n",
    "RUN_FOLDER += '_'.join([run_id, data_name])\n",
    "\n",
    "if not os.path.exists(RUN_FOLDER):\n",
    "    os.mkdir(RUN_FOLDER)\n",
    "    os.mkdir(os.path.join(RUN_FOLDER, 'viz'))\n",
    "    os.mkdir(os.path.join(RUN_FOLDER, 'images'))\n",
    "    os.mkdir(os.path.join(RUN_FOLDER, 'weights'))\n",
    "\n",
    "mode =  'build' #'load' #"
   ]
  },
  {
   "cell_type": "code",
   "execution_count": 33,
   "metadata": {},
   "outputs": [],
   "source": [
    "nb_train_samples = 807\n",
    "batch_size = 1\n",
    "epochs = 100\n",
    "path_to_data = './musicVAE/data/'"
   ]
  },
  {
   "cell_type": "code",
   "execution_count": 15,
   "metadata": {},
   "outputs": [
    {
     "name": "stderr",
     "output_type": "stream",
     "text": [
      "100%|███████████████████████████████████████████████████████████████████████████████████████████████████████████████████████████████████████████████████████████████████████| 807/807 [00:00<00:00, 398399.64it/s]\n"
     ]
    }
   ],
   "source": [
    "source_images = []\n",
    "path = path_to_data\n",
    "for filename in tqdm(glob.glob(os.path.join(path, '*.npy'))):\n",
    "    source_images.append(os.path.join(filename))"
   ]
  },
  {
   "cell_type": "code",
   "execution_count": 18,
   "metadata": {},
   "outputs": [
    {
     "data": {
      "text/plain": [
       "807"
      ]
     },
     "execution_count": 18,
     "metadata": {},
     "output_type": "execute_result"
    }
   ],
   "source": [
    "len(source_images)"
   ]
  },
  {
   "cell_type": "code",
   "execution_count": 19,
   "metadata": {},
   "outputs": [
    {
     "data": {
      "text/plain": [
       "807"
      ]
     },
     "execution_count": 19,
     "metadata": {},
     "output_type": "execute_result"
    }
   ],
   "source": [
    "from random import shuffle\n",
    "shuffle(source_images)\n",
    "len(source_images)"
   ]
  },
  {
   "cell_type": "code",
   "execution_count": 51,
   "metadata": {},
   "outputs": [],
   "source": [
    "def data_gen():\n",
    "    while True:\n",
    "        for start in range(0, nb_train_samples, batch_size):\n",
    "            x_batch = []\n",
    "            y_batch = []\n",
    "            end = min(start + batch_size, nb_train_samples)\n",
    "            for img_path in range(start, end):\n",
    "                img = np.load(source_images[img_path]).astype('float64')\n",
    "                img = np.reshape(img,(img.shape[0],img.shape[1],1))\n",
    "                x_batch.append(img)\n",
    "                y_batch.append([\"0\"])\n",
    "            yield (np.array(x_batch), np.array(y_batch))"
   ]
  },
  {
   "cell_type": "code",
   "execution_count": 95,
   "metadata": {},
   "outputs": [],
   "source": [
    "vae = VariationalAutoencoder(\n",
    "                input_dim = INPUT_DIM\n",
    "                , encoder_conv_filters=[32,32,32, 32]\n",
    "                , encoder_conv_kernel_size=[3,3,3,3]\n",
    "                , encoder_conv_strides=[2,2,2,2]\n",
    "                , decoder_conv_t_filters=[32,32,32,1]\n",
    "                , decoder_conv_t_kernel_size=[3,3,3,3]\n",
    "                , decoder_conv_t_strides=[2,2,2,2]\n",
    "                , z_dim=30\n",
    "                , use_batch_norm=True\n",
    "                , use_dropout=True)\n",
    "\n",
    "if mode == 'build':\n",
    "    vae.save(RUN_FOLDER)\n",
    "else:\n",
    "    vae.load_weights(os.path.join(RUN_FOLDER, 'weights/weights.h5'))"
   ]
  },
  {
   "cell_type": "code",
   "execution_count": 96,
   "metadata": {},
   "outputs": [
    {
     "name": "stdout",
     "output_type": "stream",
     "text": [
      "Model: \"model_42\"\n",
      "__________________________________________________________________________________________________\n",
      "Layer (type)                    Output Shape         Param #     Connected to                     \n",
      "==================================================================================================\n",
      "encoder_input (InputLayer)      (None, 336, 1024, 1) 0                                            \n",
      "__________________________________________________________________________________________________\n",
      "encoder_conv_0 (Conv2D)         (None, 168, 512, 32) 320         encoder_input[0][0]              \n",
      "__________________________________________________________________________________________________\n",
      "batch_normalization_75 (BatchNo (None, 168, 512, 32) 128         encoder_conv_0[0][0]             \n",
      "__________________________________________________________________________________________________\n",
      "leaky_re_lu_75 (LeakyReLU)      (None, 168, 512, 32) 0           batch_normalization_75[0][0]     \n",
      "__________________________________________________________________________________________________\n",
      "dropout_75 (Dropout)            (None, 168, 512, 32) 0           leaky_re_lu_75[0][0]             \n",
      "__________________________________________________________________________________________________\n",
      "encoder_conv_1 (Conv2D)         (None, 84, 256, 32)  9248        dropout_75[0][0]                 \n",
      "__________________________________________________________________________________________________\n",
      "batch_normalization_76 (BatchNo (None, 84, 256, 32)  128         encoder_conv_1[0][0]             \n",
      "__________________________________________________________________________________________________\n",
      "leaky_re_lu_76 (LeakyReLU)      (None, 84, 256, 32)  0           batch_normalization_76[0][0]     \n",
      "__________________________________________________________________________________________________\n",
      "dropout_76 (Dropout)            (None, 84, 256, 32)  0           leaky_re_lu_76[0][0]             \n",
      "__________________________________________________________________________________________________\n",
      "encoder_conv_2 (Conv2D)         (None, 42, 128, 32)  9248        dropout_76[0][0]                 \n",
      "__________________________________________________________________________________________________\n",
      "batch_normalization_77 (BatchNo (None, 42, 128, 32)  128         encoder_conv_2[0][0]             \n",
      "__________________________________________________________________________________________________\n",
      "leaky_re_lu_77 (LeakyReLU)      (None, 42, 128, 32)  0           batch_normalization_77[0][0]     \n",
      "__________________________________________________________________________________________________\n",
      "dropout_77 (Dropout)            (None, 42, 128, 32)  0           leaky_re_lu_77[0][0]             \n",
      "__________________________________________________________________________________________________\n",
      "encoder_conv_3 (Conv2D)         (None, 21, 64, 32)   9248        dropout_77[0][0]                 \n",
      "__________________________________________________________________________________________________\n",
      "batch_normalization_78 (BatchNo (None, 21, 64, 32)   128         encoder_conv_3[0][0]             \n",
      "__________________________________________________________________________________________________\n",
      "leaky_re_lu_78 (LeakyReLU)      (None, 21, 64, 32)   0           batch_normalization_78[0][0]     \n",
      "__________________________________________________________________________________________________\n",
      "dropout_78 (Dropout)            (None, 21, 64, 32)   0           leaky_re_lu_78[0][0]             \n",
      "__________________________________________________________________________________________________\n",
      "flatten_12 (Flatten)            (None, 43008)        0           dropout_78[0][0]                 \n",
      "__________________________________________________________________________________________________\n",
      "mu (Dense)                      (None, 30)           1290270     flatten_12[0][0]                 \n",
      "__________________________________________________________________________________________________\n",
      "log_var (Dense)                 (None, 30)           1290270     flatten_12[0][0]                 \n",
      "__________________________________________________________________________________________________\n",
      "encoder_output (Lambda)         (None, 30)           0           mu[0][0]                         \n",
      "                                                                 log_var[0][0]                    \n",
      "==================================================================================================\n",
      "Total params: 2,609,116\n",
      "Trainable params: 2,608,860\n",
      "Non-trainable params: 256\n",
      "__________________________________________________________________________________________________\n"
     ]
    }
   ],
   "source": [
    "vae.encoder.summary()"
   ]
  },
  {
   "cell_type": "code",
   "execution_count": 97,
   "metadata": {},
   "outputs": [
    {
     "name": "stdout",
     "output_type": "stream",
     "text": [
      "Model: \"model_43\"\n",
      "_________________________________________________________________\n",
      "Layer (type)                 Output Shape              Param #   \n",
      "=================================================================\n",
      "decoder_input (InputLayer)   (None, 30)                0         \n",
      "_________________________________________________________________\n",
      "dense_11 (Dense)             (None, 43008)             1333248   \n",
      "_________________________________________________________________\n",
      "reshape_11 (Reshape)         (None, 21, 64, 32)        0         \n",
      "_________________________________________________________________\n",
      "decoder_conv_t_0 (Conv2DTran (None, 42, 128, 32)       9248      \n",
      "_________________________________________________________________\n",
      "batch_normalization_79 (Batc (None, 42, 128, 32)       128       \n",
      "_________________________________________________________________\n",
      "leaky_re_lu_79 (LeakyReLU)   (None, 42, 128, 32)       0         \n",
      "_________________________________________________________________\n",
      "dropout_79 (Dropout)         (None, 42, 128, 32)       0         \n",
      "_________________________________________________________________\n",
      "decoder_conv_t_1 (Conv2DTran (None, 84, 256, 32)       9248      \n",
      "_________________________________________________________________\n",
      "batch_normalization_80 (Batc (None, 84, 256, 32)       128       \n",
      "_________________________________________________________________\n",
      "leaky_re_lu_80 (LeakyReLU)   (None, 84, 256, 32)       0         \n",
      "_________________________________________________________________\n",
      "dropout_80 (Dropout)         (None, 84, 256, 32)       0         \n",
      "_________________________________________________________________\n",
      "decoder_conv_t_2 (Conv2DTran (None, 168, 512, 32)      9248      \n",
      "_________________________________________________________________\n",
      "batch_normalization_81 (Batc (None, 168, 512, 32)      128       \n",
      "_________________________________________________________________\n",
      "leaky_re_lu_81 (LeakyReLU)   (None, 168, 512, 32)      0         \n",
      "_________________________________________________________________\n",
      "dropout_81 (Dropout)         (None, 168, 512, 32)      0         \n",
      "_________________________________________________________________\n",
      "decoder_conv_t_3 (Conv2DTran (None, 336, 1024, 1)      289       \n",
      "_________________________________________________________________\n",
      "activation_11 (Activation)   (None, 336, 1024, 1)      0         \n",
      "=================================================================\n",
      "Total params: 1,361,665\n",
      "Trainable params: 1,361,473\n",
      "Non-trainable params: 192\n",
      "_________________________________________________________________\n"
     ]
    }
   ],
   "source": [
    "vae.decoder.summary()"
   ]
  },
  {
   "cell_type": "code",
   "execution_count": 98,
   "metadata": {},
   "outputs": [],
   "source": [
    "LEARNING_RATE = 0.0005\n",
    "R_LOSS_FACTOR = 10000\n",
    "EPOCHS = 500\n",
    "PRINT_EVERY_N_BATCHES = 100\n",
    "INITIAL_EPOCH = 0"
   ]
  },
  {
   "cell_type": "code",
   "execution_count": 99,
   "metadata": {},
   "outputs": [],
   "source": [
    "vae.compile(LEARNING_RATE, R_LOSS_FACTOR)"
   ]
  },
  {
   "cell_type": "code",
   "execution_count": null,
   "metadata": {},
   "outputs": [
    {
     "name": "stdout",
     "output_type": "stream",
     "text": [
      "Epoch 1/100\n",
      "807/807 [==============================] - 1050s 1s/step - loss: 310.2469 - vae_r_loss: 274.9128 - vae_kl_loss: 35.3342\n",
      "\n",
      "Epoch 00001: saving model to musicVAE/music/0001_musicdata\\weights/weights-001-310.25.h5\n",
      "\n",
      "Epoch 00001: saving model to musicVAE/music/0001_musicdata\\weights/weights.h5\n",
      "Epoch 2/100\n",
      "807/807 [==============================] - 1030s 1s/step - loss: 16.5531 - vae_r_loss: 8.3974 - vae_kl_loss: 8.1557\n",
      "\n",
      "Epoch 00002: saving model to musicVAE/music/0001_musicdata\\weights/weights-002-16.55.h5\n",
      "\n",
      "Epoch 00002: saving model to musicVAE/music/0001_musicdata\\weights/weights.h5\n",
      "Epoch 3/100\n",
      "807/807 [==============================] - 1030s 1s/step - loss: 6.9457 - vae_r_loss: 2.7408 - vae_kl_loss: 4.2049\n",
      "\n",
      "Epoch 00003: saving model to musicVAE/music/0001_musicdata\\weights/weights-003-6.95.h5\n",
      "\n",
      "Epoch 00003: saving model to musicVAE/music/0001_musicdata\\weights/weights.h5\n",
      "Epoch 4/100\n",
      "807/807 [==============================] - 1040s 1s/step - loss: 3.9893 - vae_r_loss: 1.2749 - vae_kl_loss: 2.7144\n",
      "\n",
      "Epoch 00004: saving model to musicVAE/music/0001_musicdata\\weights/weights-004-3.99.h5\n",
      "\n",
      "Epoch 00004: saving model to musicVAE/music/0001_musicdata\\weights/weights.h5\n",
      "Epoch 5/100\n",
      "807/807 [==============================] - 1023s 1s/step - loss: 2.4457 - vae_r_loss: 0.6779 - vae_kl_loss: 1.7679\n",
      "\n",
      "Epoch 00005: saving model to musicVAE/music/0001_musicdata\\weights/weights-005-2.45.h5\n",
      "\n",
      "Epoch 00005: saving model to musicVAE/music/0001_musicdata\\weights/weights.h5\n",
      "Epoch 6/100\n",
      "807/807 [==============================] - 996s 1s/step - loss: 1.4646 - vae_r_loss: 0.3953 - vae_kl_loss: 1.0693\n",
      "\n",
      "Epoch 00006: saving model to musicVAE/music/0001_musicdata\\weights/weights-006-1.46.h5\n",
      "\n",
      "Epoch 00006: saving model to musicVAE/music/0001_musicdata\\weights/weights.h5\n",
      "Epoch 7/100\n",
      "807/807 [==============================] - 997s 1s/step - loss: 0.7885 - vae_r_loss: 0.2428 - vae_kl_loss: 0.5457\n",
      "\n",
      "Epoch 00007: saving model to musicVAE/music/0001_musicdata\\weights/weights-007-0.79.h5\n",
      "\n",
      "Epoch 00007: saving model to musicVAE/music/0001_musicdata\\weights/weights.h5\n",
      "Epoch 8/100\n",
      "807/807 [==============================] - 996s 1s/step - loss: 0.4057 - vae_r_loss: 0.1504 - vae_kl_loss: 0.2553\n",
      "\n",
      "Epoch 00008: saving model to musicVAE/music/0001_musicdata\\weights/weights-008-0.41.h5\n",
      "\n",
      "Epoch 00008: saving model to musicVAE/music/0001_musicdata\\weights/weights.h5\n",
      "Epoch 9/100\n",
      "807/807 [==============================] - 993s 1s/step - loss: 0.2065 - vae_r_loss: 0.0959 - vae_kl_loss: 0.1105\n",
      "\n",
      "Epoch 00009: saving model to musicVAE/music/0001_musicdata\\weights/weights-009-0.21.h5\n",
      "\n",
      "Epoch 00009: saving model to musicVAE/music/0001_musicdata\\weights/weights.h5\n",
      "Epoch 10/100\n",
      "807/807 [==============================] - 975s 1s/step - loss: 0.1065 - vae_r_loss: 0.0622 - vae_kl_loss: 0.0442\n",
      "\n",
      "Epoch 00010: saving model to musicVAE/music/0001_musicdata\\weights/weights-010-0.11.h5\n",
      "\n",
      "Epoch 00010: saving model to musicVAE/music/0001_musicdata\\weights/weights.h5\n",
      "Epoch 11/100\n",
      "807/807 [==============================] - 1019s 1s/step - loss: 0.0571 - vae_r_loss: 0.0406 - vae_kl_loss: 0.0165\n",
      "\n",
      "Epoch 00011: saving model to musicVAE/music/0001_musicdata\\weights/weights-011-0.06.h5\n",
      "\n",
      "Epoch 00011: saving model to musicVAE/music/0001_musicdata\\weights/weights.h5\n",
      "Epoch 12/100\n",
      "807/807 [==============================] - 992s 1s/step - loss: 0.0326 - vae_r_loss: 0.0271 - vae_kl_loss: 0.0055\n",
      "\n",
      "Epoch 00012: saving model to musicVAE/music/0001_musicdata\\weights/weights-012-0.03.h5\n",
      "\n",
      "Epoch 00012: saving model to musicVAE/music/0001_musicdata\\weights/weights.h5\n",
      "Epoch 13/100\n",
      "807/807 [==============================] - 974s 1s/step - loss: 0.0200 - vae_r_loss: 0.0182 - vae_kl_loss: 0.0017\n",
      "\n",
      "Epoch 00013: saving model to musicVAE/music/0001_musicdata\\weights/weights-013-0.02.h5\n",
      "\n",
      "Epoch 00013: saving model to musicVAE/music/0001_musicdata\\weights/weights.h5\n",
      "Epoch 14/100\n",
      "807/807 [==============================] - 982s 1s/step - loss: 0.0127 - vae_r_loss: 0.0122 - vae_kl_loss: 5.0625e-04\n",
      "\n",
      "Epoch 00014: saving model to musicVAE/music/0001_musicdata\\weights/weights-014-0.01.h5\n",
      "\n",
      "Epoch 00014: saving model to musicVAE/music/0001_musicdata\\weights/weights.h5\n",
      "Epoch 15/100\n",
      "807/807 [==============================] - 973s 1s/step - loss: 0.0083 - vae_r_loss: 0.0082 - vae_kl_loss: 1.3032e-04\n",
      "\n",
      "Epoch 00015: saving model to musicVAE/music/0001_musicdata\\weights/weights-015-0.01.h5\n",
      "\n",
      "Epoch 00015: saving model to musicVAE/music/0001_musicdata\\weights/weights.h5\n",
      "Epoch 16/100\n",
      "807/807 [==============================] - 974s 1s/step - loss: 0.0054 - vae_r_loss: 0.0054 - vae_kl_loss: 2.6924e-05\n",
      "\n",
      "Epoch 00016: saving model to musicVAE/music/0001_musicdata\\weights/weights-016-0.01.h5\n",
      "\n",
      "Epoch 00016: saving model to musicVAE/music/0001_musicdata\\weights/weights.h5\n",
      "Epoch 17/100\n",
      "807/807 [==============================] - 974s 1s/step - loss: 0.0037 - vae_r_loss: 0.0037 - vae_kl_loss: 3.7589e-06\n",
      "\n",
      "Epoch 00017: saving model to musicVAE/music/0001_musicdata\\weights/weights-017-0.00.h5\n",
      "\n",
      "Epoch 00017: saving model to musicVAE/music/0001_musicdata\\weights/weights.h5\n",
      "Epoch 18/100\n",
      "614/807 [=====================>........] - ETA: 3:52 - loss: 0.0026 - vae_r_loss: 0.0026 - vae_kl_loss: 2.8579e-07"
     ]
    }
   ],
   "source": [
    "vae.train_with_generator(     \n",
    "    data_gen(),\n",
    "    epochs= epochs,\n",
    "    steps_per_epoch= nb_train_samples // batch_size\n",
    "    , run_folder = RUN_FOLDER\n",
    "    , print_every_n_batches = PRINT_EVERY_N_BATCHES\n",
    "    , initial_epoch = INITIAL_EPOCH\n",
    ")"
   ]
  },
  {
   "cell_type": "code",
   "execution_count": null,
   "metadata": {},
   "outputs": [],
   "source": []
  }
 ],
 "metadata": {
  "kernelspec": {
   "display_name": "Python 3",
   "language": "python",
   "name": "python3"
  },
  "language_info": {
   "codemirror_mode": {
    "name": "ipython",
    "version": 3
   },
   "file_extension": ".py",
   "mimetype": "text/x-python",
   "name": "python",
   "nbconvert_exporter": "python",
   "pygments_lexer": "ipython3",
   "version": "3.7.6"
  }
 },
 "nbformat": 4,
 "nbformat_minor": 4
}
